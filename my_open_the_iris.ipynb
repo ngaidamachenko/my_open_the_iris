{
 "cells": [
  {
   "cell_type": "code",
   "execution_count": 23,
   "metadata": {},
   "outputs": [],
   "source": [
    "import pandas as pd\n",
    "from pandas import read_csv\n",
    "from pandas.plotting import scatter_matrix\n",
    "from matplotlib import pyplot\n",
    "import sklearn\n",
    "from sklearn.model_selection import train_test_split\n",
    "from sklearn.model_selection import cross_val_score\n",
    "from sklearn.tree import DecisionTreeClassifier\n",
    "from sklearn.naive_bayes import GaussianNB\n",
    "from sklearn.neighbors import KNeighborsClassifier\n",
    "from sklearn.linear_model import LogisticRegression\n",
    "from sklearn.discriminant_analysis import LinearDiscriminantAnalysis\n",
    "from sklearn.svm import SVC\n",
    " \n",
    "\n"
   ]
  },
  {
   "cell_type": "code",
   "execution_count": 24,
   "metadata": {},
   "outputs": [],
   "source": [
    "def load_dataset():\n",
    "    return pd.read_csv(\"https://storage.googleapis.com/qwasar-public/track-ds/iris.csv\")"
   ]
  },
  {
   "cell_type": "code",
   "execution_count": 25,
   "metadata": {},
   "outputs": [],
   "source": [
    "dataset = load_dataset()"
   ]
  },
  {
   "cell_type": "code",
   "execution_count": 36,
   "metadata": {},
   "outputs": [],
   "source": [
    "def summarize_dataset(dataset):\n",
    "    print(\"Dataset dimension:\")\n",
    "    print(dataset.shape)\n",
    "    print(\"\\nFirst 10 rows of dataset:\")\n",
    "    print(dataset.head(10))\n",
    "    print(\"\\nStatistical summary:\")\n",
    "    print(dataset.describe())\n",
    "    print(\"\\nClass Distribution:\") \n",
    "    print(dataset.groupby('class').size())"
   ]
  },
  {
   "cell_type": "code",
   "execution_count": 37,
   "metadata": {},
   "outputs": [
    {
     "name": "stdout",
     "output_type": "stream",
     "text": [
      "Dataset dimension:\n",
      "(150, 5)\n",
      "\n",
      "First 10 rows of dataset:\n",
      "   sepal-length  sepal-width  petal-length  petal-width        class\n",
      "0           5.1          3.5           1.4          0.2  Iris-setosa\n",
      "1           4.9          3.0           1.4          0.2  Iris-setosa\n",
      "2           4.7          3.2           1.3          0.2  Iris-setosa\n",
      "3           4.6          3.1           1.5          0.2  Iris-setosa\n",
      "4           5.0          3.6           1.4          0.2  Iris-setosa\n",
      "5           5.4          3.9           1.7          0.4  Iris-setosa\n",
      "6           4.6          3.4           1.4          0.3  Iris-setosa\n",
      "7           5.0          3.4           1.5          0.2  Iris-setosa\n",
      "8           4.4          2.9           1.4          0.2  Iris-setosa\n",
      "9           4.9          3.1           1.5          0.1  Iris-setosa\n",
      "\n",
      "Statistical summary:\n",
      "       sepal-length  sepal-width  petal-length  petal-width\n",
      "count    150.000000   150.000000    150.000000   150.000000\n",
      "mean       5.843333     3.054000      3.758667     1.198667\n",
      "std        0.828066     0.433594      1.764420     0.763161\n",
      "min        4.300000     2.000000      1.000000     0.100000\n",
      "25%        5.100000     2.800000      1.600000     0.300000\n",
      "50%        5.800000     3.000000      4.350000     1.300000\n",
      "75%        6.400000     3.300000      5.100000     1.800000\n",
      "max        7.900000     4.400000      6.900000     2.500000\n"
     ]
    }
   ],
   "source": [
    "summarize_dataset(dataset)"
   ]
  },
  {
   "cell_type": "code",
   "execution_count": 28,
   "metadata": {},
   "outputs": [],
   "source": [
    "def print_plot_univariate(dataset):\n",
    "    dataset.hist()\n",
    "    #pyplot.show()"
   ]
  },
  {
   "cell_type": "code",
   "execution_count": 29,
   "metadata": {},
   "outputs": [],
   "source": [
    "#print_plot_univariate(dataset)"
   ]
  },
  {
   "cell_type": "code",
   "execution_count": 30,
   "metadata": {},
   "outputs": [],
   "source": [
    "def print_plot_multivariate(dataset):\n",
    "    scatter_matrix(dataset)\n",
    "    #pyplot.show()"
   ]
  },
  {
   "cell_type": "code",
   "execution_count": 31,
   "metadata": {},
   "outputs": [],
   "source": [
    "\n",
    "#print_plot_multivariate(dataset)"
   ]
  },
  {
   "cell_type": "code",
   "execution_count": 32,
   "metadata": {},
   "outputs": [],
   "source": [
    "def my_print_and_test_models(dataset):\n",
    "    models = { \n",
    "        # DecisionTree\n",
    "        \"DecisionTree\": sklearn.tree.DecisionTreeClassifier(),\n",
    "\n",
    "        # GaussianNB\n",
    "        \"GaussianNB\": sklearn.naive_bayes.GaussianNB(),\n",
    "\n",
    "        # KNeighbors\n",
    "        \"KNeighbors\": sklearn.neighbors.KNeighborsClassifier(),\n",
    "\n",
    "        # LogisticRegression\n",
    "        \"LogisticRegression\": sklearn.linear_model.LogisticRegression(solver='liblinear', multi_class='ovr'),\n",
    "\n",
    "        # LinearDiscriminant\n",
    "        \"LinearDiscriminant\": sklearn.discriminant_analysis.LinearDiscriminantAnalysis(),\n",
    "\n",
    "        # SVM\n",
    "        \"SVM\": sklearn.svm.SVC(gamma='auto'),\n",
    "    }\n",
    "    #for model_name in models.keys():\n",
    "    #    print(model_name)\n",
    "    array = dataset.values\n",
    "    X = array[:,0:4]\n",
    "    y = array[:,4]\n",
    "    X_train, X_validation, Y_train, Y_validation = train_test_split(X, y, test_size=0.20, random_state=1)\n",
    "    kfold = 5\n",
    "    for model in models.keys():\n",
    "        cv_results = cross_val_score(models[model], X_train, Y_train, cv=kfold, scoring='accuracy')\n",
    "        print(\"%s: %f (%f)\" % (model, cv_results.mean(), cv_results.std()))"
   ]
  },
  {
   "cell_type": "code",
   "execution_count": 33,
   "metadata": {},
   "outputs": [],
   "source": [
    "#my_print_and_test_models(dataset)"
   ]
  }
 ],
 "metadata": {
  "kernelspec": {
   "display_name": "Python 3 (ipykernel)",
   "language": "python",
   "name": "python3"
  },
  "language_info": {
   "codemirror_mode": {
    "name": "ipython",
    "version": 3
   },
   "file_extension": ".py",
   "mimetype": "text/x-python",
   "name": "python",
   "nbconvert_exporter": "python",
   "pygments_lexer": "ipython3",
   "version": "3.9.7"
  }
 },
 "nbformat": 4,
 "nbformat_minor": 2
}
